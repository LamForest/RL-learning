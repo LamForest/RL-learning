{
 "cells": [
  {
   "cell_type": "markdown",
   "id": "253d343a-005b-4bd2-8916-99ec9ffb09f0",
   "metadata": {},
   "source": [
    "np.argmax(a, axis=0)的含义是a[0][j][k],a[1][j][k] (j=0,1,2,k=0,1,2,3)中最大值的索引.\n",
    "\n",
    "从a[0][j][k]开始,a[0][j][k]对应的索引为((0,0,0,0),(0,0,0,0),(0,0,0,0))\n",
    "拿a[0][j][k]和a[1][j][k]对应项作比较6大于-6,3大于-3,9大于-9,\n",
    "所以更新这几个位置的索引,\n",
    "将((0,0,0,0),(0,0,0,0),(0,0,0,0))更新为((0,0,0,0),(0,1,0,0),(1,0,1,0)).\n",
    "...\n",
    "\n",
    "最后axis = 0这一维消去了，得到的是 3x4的array\n"
   ]
  },
  {
   "cell_type": "code",
   "execution_count": 3,
   "id": "2ce66286-e3e5-4d18-89d0-f0dd6b4114e9",
   "metadata": {},
   "outputs": [
    {
     "name": "stdout",
     "output_type": "stream",
     "text": [
      "[[0 0 0 0]\n",
      " [0 1 0 0]\n",
      " [1 0 1 0]]\n"
     ]
    }
   ],
   "source": [
    "import numpy as np\n",
    "a = np.array([\n",
    "              [\n",
    "                  [1, 5, 5, 2],\n",
    "                  [9, -6, 2, 8],\n",
    "                  [-3, 7, -9, 1]\n",
    "              ],\n",
    "\n",
    "              [\n",
    "                  [-1, 5, -5, 2],\n",
    "                  [9, 6, 2, 8],\n",
    "                  [3, 7, 9, 1]\n",
    "              ]\n",
    "            ])\n",
    "\n",
    "print(np.argmax(a, axis=0))"
   ]
  },
  {
   "cell_type": "markdown",
   "id": "14a2518e-ae38-44e6-9139-9bbc515f0f1d",
   "metadata": {},
   "source": [
    "将a[i][0][k] a[i][1][k] a[i][2][k]比较\n",
    "最后结果为 2x4 的array\n",
    "\n",
    "((1, 2, 0, 1), (1,2,2,1))"
   ]
  },
  {
   "cell_type": "code",
   "execution_count": 5,
   "id": "f29db30d-d51f-4fc7-838b-8a04734ee5d0",
   "metadata": {},
   "outputs": [
    {
     "name": "stdout",
     "output_type": "stream",
     "text": [
      "[[1 2 0 1]\n",
      " [1 2 2 1]]\n"
     ]
    }
   ],
   "source": [
    "print(np.argmax(a, axis=1))"
   ]
  },
  {
   "cell_type": "markdown",
   "id": "3f462214-47a8-48be-b222-998d9c5394a0",
   "metadata": {},
   "source": [
    "将a[i][j][0] a[i][j][1] a[i][j][2] a[i][j][3]比较\n",
    "最后结果为 2x3 的array\n",
    "\n",
    "((1, 0, 1), (1,0,2))"
   ]
  },
  {
   "cell_type": "code",
   "execution_count": 6,
   "id": "d3b28f08-96d2-4e45-9f16-7ecce11bea36",
   "metadata": {},
   "outputs": [
    {
     "name": "stdout",
     "output_type": "stream",
     "text": [
      "[[1 0 1]\n",
      " [1 0 2]]\n"
     ]
    }
   ],
   "source": [
    "print(np.argmax(a, axis=2))"
   ]
  },
  {
   "cell_type": "markdown",
   "id": "eb39e805-1df6-4df2-8512-f7fe4880e15b",
   "metadata": {},
   "source": [
    "同理np.max的结果也好理解"
   ]
  },
  {
   "cell_type": "code",
   "execution_count": 7,
   "id": "0f7380a3-6620-43cd-b272-253cf8d7cfb8",
   "metadata": {},
   "outputs": [
    {
     "name": "stdout",
     "output_type": "stream",
     "text": [
      "[[1 5 5 2]\n",
      " [9 6 2 8]\n",
      " [3 7 9 1]]\n",
      "[[9 7 5 8]\n",
      " [9 7 9 8]]\n",
      "[[5 9 7]\n",
      " [5 9 9]]\n"
     ]
    }
   ],
   "source": [
    "print(np.max(a, axis=0))\n",
    "print(np.max(a, axis=1))\n",
    "print(np.max(a, axis=2))"
   ]
  },
  {
   "cell_type": "markdown",
   "id": "2953bf94-7deb-494b-a702-3121df2ebc60",
   "metadata": {},
   "source": [
    "同理np.sum的结果也好理解"
   ]
  },
  {
   "cell_type": "code",
   "execution_count": 8,
   "id": "d8b7fdae-1b90-47ef-bbc7-5d7072c325d7",
   "metadata": {},
   "outputs": [
    {
     "name": "stdout",
     "output_type": "stream",
     "text": [
      "[[ 0 10  0  4]\n",
      " [18  0  4 16]\n",
      " [ 0 14  0  2]]\n",
      "[[ 7  6 -2 11]\n",
      " [11 18  6 11]]\n",
      "[[13 13 -4]\n",
      " [ 1 25 20]]\n"
     ]
    }
   ],
   "source": [
    "print(np.sum(a, axis=0))\n",
    "print(np.sum(a, axis=1))\n",
    "print(np.sum(a, axis=2))"
   ]
  },
  {
   "cell_type": "code",
   "execution_count": 10,
   "id": "b907b772-d423-4c1d-b3da-feffc9564298",
   "metadata": {},
   "outputs": [
    {
     "ename": "IndexError",
     "evalue": "index 2 is out of bounds for axis 0 with size 2",
     "output_type": "error",
     "traceback": [
      "\u001b[1;31m---------------------------------------------------------------------------\u001b[0m",
      "\u001b[1;31mIndexError\u001b[0m                                Traceback (most recent call last)",
      "\u001b[1;32m<ipython-input-10-d6b534577460>\u001b[0m in \u001b[0;36m<module>\u001b[1;34m\u001b[0m\n\u001b[0;32m      2\u001b[0m \u001b[0mj\u001b[0m \u001b[1;33m=\u001b[0m \u001b[0mnp\u001b[0m\u001b[1;33m.\u001b[0m\u001b[0marray\u001b[0m\u001b[1;33m(\u001b[0m\u001b[1;33m[\u001b[0m\u001b[1;36m1\u001b[0m\u001b[1;33m,\u001b[0m\u001b[1;36m2\u001b[0m\u001b[1;33m]\u001b[0m\u001b[1;33m)\u001b[0m\u001b[1;33m\u001b[0m\u001b[1;33m\u001b[0m\u001b[0m\n\u001b[0;32m      3\u001b[0m \u001b[0mk\u001b[0m \u001b[1;33m=\u001b[0m \u001b[0mnp\u001b[0m\u001b[1;33m.\u001b[0m\u001b[0marray\u001b[0m\u001b[1;33m(\u001b[0m\u001b[1;33m[\u001b[0m\u001b[1;36m0\u001b[0m\u001b[1;33m,\u001b[0m\u001b[1;36m3\u001b[0m\u001b[1;33m]\u001b[0m\u001b[1;33m)\u001b[0m\u001b[1;33m\u001b[0m\u001b[1;33m\u001b[0m\u001b[0m\n\u001b[1;32m----> 4\u001b[1;33m \u001b[0ma\u001b[0m\u001b[1;33m[\u001b[0m\u001b[0mi\u001b[0m\u001b[1;33m]\u001b[0m\u001b[1;33m[\u001b[0m\u001b[0mj\u001b[0m\u001b[1;33m]\u001b[0m\u001b[1;33m\u001b[0m\u001b[1;33m\u001b[0m\u001b[0m\n\u001b[0m",
      "\u001b[1;31mIndexError\u001b[0m: index 2 is out of bounds for axis 0 with size 2"
     ]
    }
   ],
   "source": [
    "i = np.array([0,1])\n",
    "j = np.array([1,2])\n",
    "k = np.array([0,3])\n",
    "a[i][j]"
   ]
  },
  {
   "cell_type": "code",
   "execution_count": null,
   "id": "6d2c5e27-6143-493c-9826-b53ac2fa40dd",
   "metadata": {},
   "outputs": [],
   "source": []
  }
 ],
 "metadata": {
  "kernelspec": {
   "display_name": "Python 3",
   "language": "python",
   "name": "python3"
  },
  "language_info": {
   "codemirror_mode": {
    "name": "ipython",
    "version": 3
   },
   "file_extension": ".py",
   "mimetype": "text/x-python",
   "name": "python",
   "nbconvert_exporter": "python",
   "pygments_lexer": "ipython3",
   "version": "3.6.13"
  }
 },
 "nbformat": 4,
 "nbformat_minor": 5
}
