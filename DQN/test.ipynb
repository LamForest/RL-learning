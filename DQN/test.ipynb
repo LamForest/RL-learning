{
 "cells": [
  {
   "cell_type": "code",
   "execution_count": 4,
   "id": "bae06549-3ef2-4931-8204-0262f71d6b04",
   "metadata": {},
   "outputs": [
    {
     "name": "stdout",
     "output_type": "stream",
     "text": [
      "int32\n",
      "int32\n",
      "int32\n",
      "int32\n",
      "int32\n"
     ]
    }
   ],
   "source": [
    "import numpy as np\n",
    "\n",
    "a = [1,2,3,4, 123]\n",
    "\n",
    "\n",
    "\n",
    "for _ in range(5):\n",
    "    p = np.random.choice(a, size = 3, replace = False)\n",
    "    print(p.dtype)"
   ]
  },
  {
   "cell_type": "code",
   "execution_count": 5,
   "id": "4720a120-2104-448f-b05a-33d2c6877ccc",
   "metadata": {},
   "outputs": [
    {
     "data": {
      "text/plain": [
       "array([[1, 2, 3],\n",
       "       [4, 5, 6],\n",
       "       [4, 5, 7]])"
      ]
     },
     "execution_count": 5,
     "metadata": {},
     "output_type": "execute_result"
    }
   ],
   "source": [
    "a1 = np.array([[1, 2, 3],\n",
    "       [4, 5, 6]])\n",
    "a2 = np.array([4, 5, 7])\n",
    "res = np.vstack((a1, a2))\n",
    "res"
   ]
  },
  {
   "cell_type": "code",
   "execution_count": 6,
   "id": "392f24cd-8d47-437e-98ee-78cb00b87832",
   "metadata": {},
   "outputs": [
    {
     "data": {
      "text/plain": [
       "(5, 1, 3, 4)"
      ]
     },
     "execution_count": 6,
     "metadata": {},
     "output_type": "execute_result"
    }
   ],
   "source": [
    "s = (1,3,4)\n",
    "k = (5, *s)\n",
    "k"
   ]
  },
  {
   "cell_type": "code",
   "execution_count": null,
   "id": "ece090f6-0d03-4c87-9c3f-43d432e15f00",
   "metadata": {},
   "outputs": [],
   "source": []
  }
 ],
 "metadata": {
  "kernelspec": {
   "display_name": "Python 3",
   "language": "python",
   "name": "python3"
  },
  "language_info": {
   "codemirror_mode": {
    "name": "ipython",
    "version": 3
   },
   "file_extension": ".py",
   "mimetype": "text/x-python",
   "name": "python",
   "nbconvert_exporter": "python",
   "pygments_lexer": "ipython3",
   "version": "3.6.13"
  }
 },
 "nbformat": 4,
 "nbformat_minor": 5
}
